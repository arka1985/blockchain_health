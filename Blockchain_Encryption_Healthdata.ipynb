{
 "cells": [
  {
   "cell_type": "code",
   "execution_count": 1,
   "id": "2e47e6b5",
   "metadata": {},
   "outputs": [],
   "source": [
    "import os"
   ]
  },
  {
   "cell_type": "code",
   "execution_count": 2,
   "id": "89ee7081",
   "metadata": {},
   "outputs": [
    {
     "data": {
      "text/plain": [
       "'C:\\\\Users\\\\arka\\\\OneDrive\\\\Documents\\\\PYTHON_R'"
      ]
     },
     "execution_count": 2,
     "metadata": {},
     "output_type": "execute_result"
    }
   ],
   "source": [
    "os.getcwd()"
   ]
  },
  {
   "cell_type": "code",
   "execution_count": 3,
   "id": "21dbb858",
   "metadata": {},
   "outputs": [],
   "source": [
    "os.chdir('C:/Users/arka/OneDrive/Arka_PhD/Blockchain')"
   ]
  },
  {
   "cell_type": "code",
   "execution_count": 7,
   "id": "dd1cf1ab",
   "metadata": {},
   "outputs": [
    {
     "name": "stdout",
     "output_type": "stream",
     "text": [
      "1. Add new patient\n",
      "2. Check Data Integrity\n",
      "3. Encrypt and Save Columns\n",
      "4. Exit\n",
      "Enter your choice: 4\n"
     ]
    }
   ],
   "source": [
    "import csv\n",
    "import hashlib\n",
    "import pandas as pd\n",
    "from cryptography.fernet import Fernet\n",
    "\n",
    "# Function to create a hash of a row\n",
    "def create_row_hash(row):\n",
    "    row_str = ''.join(str(cell) for cell in row)\n",
    "    return hashlib.sha256(row_str.encode()).hexdigest()\n",
    "\n",
    "# Load the patient data from the CSV file\n",
    "def load_patient_data():\n",
    "    try:\n",
    "        data = pd.read_csv(\"patient_data.csv\")\n",
    "    except FileNotFoundError:\n",
    "        data = pd.DataFrame(columns=[\"patient_id\", \"age\", \"weight\", \"height\", \"hash\"])\n",
    "    return data\n",
    "\n",
    "# Load the patient IDs and their corresponding hashes from the CSV file\n",
    "def load_patient_hashes():\n",
    "    try:\n",
    "        patient_hashes = pd.read_csv(\"patient_hashes.csv\")\n",
    "    except FileNotFoundError:\n",
    "        patient_hashes = pd.DataFrame(columns=[\"patient_id\", \"hash\"])\n",
    "    return patient_hashes\n",
    "\n",
    "# Function to add a new patient to the CSV file\n",
    "def add_patient():\n",
    "    patient_id = input(\"Enter patient ID: \")\n",
    "    age = input(\"Enter age: \")\n",
    "    weight = input(\"Enter weight: \")\n",
    "    height = input(\"Enter height: \")\n",
    "\n",
    "    # Create a new row for the patient\n",
    "    new_patient = [patient_id, age, weight, height, '']\n",
    "    \n",
    "    # Load the existing patient data\n",
    "    data = load_patient_data()\n",
    "\n",
    "    # Calculate the hash of the new row\n",
    "    new_hash = create_row_hash(new_patient)\n",
    "    new_patient[-1] = new_hash\n",
    "\n",
    "    # Append the new patient to the data\n",
    "    data = pd.concat([data, pd.DataFrame([new_patient], columns=data.columns)], ignore_index=True)\n",
    "    \n",
    "    # Save the updated data to the CSV file\n",
    "    data.to_csv(\"patient_data.csv\", index=False)\n",
    "    print(\"Patient added successfully.\")\n",
    "\n",
    "    # Load the patient hashes\n",
    "    patient_hashes = load_patient_hashes()\n",
    "\n",
    "    # Check if the patient ID is in the patient_hashes\n",
    "    if patient_id in patient_hashes['patient_id'].values:\n",
    "        # Update the hash in patient_hashes\n",
    "        patient_hashes.loc[patient_hashes['patient_id'] == patient_id, 'hash'] = new_hash\n",
    "    else:\n",
    "        # Add a new row for the patient in patient_hashes\n",
    "        #patient_hashes = patient_hashes.append({'patient_id': patient_id, 'hash': new_hash}, ignore_index=True)\n",
    "        new_patient_hash = pd.DataFrame({'patient_id': [patient_id], 'hash': [new_hash]})\n",
    "        patient_hashes = pd.concat([patient_hashes, new_patient_hash], ignore_index=True)\n",
    "\n",
    "    # Save the updated patient hashes\n",
    "    patient_hashes.to_csv(\"patient_hashes.csv\", index=False)\n",
    "\n",
    "# Function to check data integrity\n",
    "def check_data_integrity():\n",
    "    data = load_patient_data()\n",
    "    patient_hashes = load_patient_hashes()\n",
    "    compromised_rows = []\n",
    "    for index, row in data.iterrows():\n",
    "        expected_hash = create_row_hash(row[:-1])\n",
    "        if row['hash'] != expected_hash:\n",
    "            compromised_rows.append(row['patient_id'])\n",
    "\n",
    "    if len(compromised_rows) == 0:\n",
    "        print(\"Data integrity is intact. No unauthorized changes detected.\")\n",
    "    else:\n",
    "        print(\"Data integrity has been compromised in the following rows:\")\n",
    "        print(compromised_rows)\n",
    "\n",
    "# Function to encrypt and save columns in a separate CSV file\n",
    "def encrypt_and_save_columns():\n",
    "    # Generate a Fernet key for encryption\n",
    "    key = Fernet.generate_key()\n",
    "    \n",
    "\n",
    "    # Save and securely store this key for decryption\n",
    "    with open(\"fernet_key.key\", \"wb\") as key_file:\n",
    "        key_file.write(key)\n",
    "\n",
    "    # Load the patient data\n",
    "    data = load_patient_data()\n",
    "\n",
    "    # Define the columns to be encrypted\n",
    "    columns_to_encrypt = [\"age\", \"weight\", \"height\"]\n",
    "\n",
    "    # Create a Fernet cipher with the key\n",
    "    cipher = Fernet(key)\n",
    "\n",
    "    # Encrypt specified columns\n",
    "    for col in columns_to_encrypt:\n",
    "        data[col] = data[col].apply(lambda x: cipher.encrypt(str(x).encode()).decode())\n",
    "\n",
    "    # Save the encrypted data to a separate CSV file\n",
    "    data[[\"patient_id\"] + columns_to_encrypt].to_csv(\"encrypted_patient_data.csv\", index=False)\n",
    "    print(\"Columns encrypted and saved successfully.\")\n",
    "\n",
    "# Main program\n",
    "while True:\n",
    "    print(\"1. Add new patient\")\n",
    "    print(\"2. Check Data Integrity\")\n",
    "    print(\"3. Encrypt and Save Columns\")\n",
    "    print(\"4. Exit\")\n",
    "    choice = input(\"Enter your choice: \")\n",
    "\n",
    "    if choice == '1':\n",
    "        add_patient()\n",
    "    elif choice == '2':\n",
    "        check_data_integrity()\n",
    "    elif choice == '3':\n",
    "        encrypt_and_save_columns()\n",
    "    elif choice == '4':\n",
    "        break\n",
    "    else:\n",
    "        print(\"Invalid choice. Please try again.\")"
   ]
  },
  {
   "cell_type": "code",
   "execution_count": 6,
   "id": "54f1c136",
   "metadata": {},
   "outputs": [
    {
     "name": "stdout",
     "output_type": "stream",
     "text": [
      "Decrypted data has been saved to 'decrypted_patient_data.csv'.\n"
     ]
    }
   ],
   "source": [
    "import pandas as pd\n",
    "from cryptography.fernet import Fernet\n",
    "\n",
    "# Load the Fernet key from a file\n",
    "with open(\"fernet_key.key\", \"rb\") as key_file:\n",
    "    decryption_key = key_file.read()\n",
    "\n",
    "# Create a Fernet cipher with the key\n",
    "cipher = Fernet(decryption_key)\n",
    "\n",
    "# Load the encrypted CSV file\n",
    "encrypted_data = pd.read_csv(\"encrypted_patient_data.csv\")\n",
    "\n",
    "# Define the columns to decrypt\n",
    "columns_to_decrypt = [\"age\", \"weight\", \"height\"]\n",
    "\n",
    "# Decrypt the specified columns\n",
    "for col in columns_to_decrypt:\n",
    "    encrypted_data[col] = encrypted_data[col].apply(lambda x: cipher.decrypt(x.encode()).decode())\n",
    "\n",
    "# Save the decrypted data to a new CSV file\n",
    "decrypted_file = \"decrypted_patient_data.csv\"\n",
    "encrypted_data.to_csv(decrypted_file, index=False)\n",
    "print(f\"Decrypted data has been saved to '{decrypted_file}'.\")"
   ]
  },
  {
   "cell_type": "code",
   "execution_count": null,
   "id": "da1e23a8",
   "metadata": {},
   "outputs": [],
   "source": []
  }
 ],
 "metadata": {
  "kernelspec": {
   "display_name": "Python 3 (ipykernel)",
   "language": "python",
   "name": "python3"
  },
  "language_info": {
   "codemirror_mode": {
    "name": "ipython",
    "version": 3
   },
   "file_extension": ".py",
   "mimetype": "text/x-python",
   "name": "python",
   "nbconvert_exporter": "python",
   "pygments_lexer": "ipython3",
   "version": "3.9.7"
  }
 },
 "nbformat": 4,
 "nbformat_minor": 5
}
